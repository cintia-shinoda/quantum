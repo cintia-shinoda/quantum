{
 "cells": [
  {
   "cell_type": "markdown",
   "metadata": {},
   "source": [
    "[Evidence for the utility of quantum computing before fault tolerance](https://www.nature.com/articles/s41586-023-06096-3)"
   ]
  },
  {
   "cell_type": "markdown",
   "metadata": {},
   "source": [
    "## Transverse field Ising model to demo primitives"
   ]
  },
  {
   "cell_type": "code",
   "execution_count": null,
   "metadata": {},
   "outputs": [],
   "source": [
    "def generate_1d_tfim_circuit(num_qubits, num_trotter_steps, rx_angle):\n",
    "    qc = QuantumCircuit(num_qubits)\n",
    "\n",
    "    for trotter_step in range(num_trotter_steps):\n",
    "        add_1d_tfim_trotter_layer(qc, rx_angle)\n",
    "    return qc\n",
    "\n",
    "def add_1d_tfim_trotter_layer(qc, rx_angle):\n",
    "    # adding Rzz in the even layers\n",
    "    for i in range(0, qc.num_qubits-1, 2):"
   ]
  }
 ],
 "metadata": {
  "language_info": {
   "name": "python"
  }
 },
 "nbformat": 4,
 "nbformat_minor": 2
}
