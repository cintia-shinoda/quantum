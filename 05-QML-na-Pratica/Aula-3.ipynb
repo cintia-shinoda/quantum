{
 "cells": [
  {
   "cell_type": "markdown",
   "id": "3838be8e",
   "metadata": {},
   "source": [
    "# Aula 3"
   ]
  },
  {
   "cell_type": "markdown",
   "id": "27f7049d",
   "metadata": {},
   "source": []
  }
 ],
 "metadata": {
  "language_info": {
   "name": "python"
  }
 },
 "nbformat": 4,
 "nbformat_minor": 5
}
